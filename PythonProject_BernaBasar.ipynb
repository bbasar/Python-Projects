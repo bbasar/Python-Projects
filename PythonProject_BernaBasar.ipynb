{
 "cells": [
  {
   "cell_type": "markdown",
   "metadata": {},
   "source": [
    "## Customer Evaluation of Hospitals across the U.S. "
   ]
  },
  {
   "attachments": {},
   "cell_type": "markdown",
   "metadata": {},
   "source": [
    "### Research Question: What are the characteristics of hospitals with high vs. low customer ratings?\n",
    "\n",
    "Data Source: Medicare.gov (Ratings of Medicare-certified hospitals across the country)\n",
    "\n",
    "Outcome Variable: Hospital overall rating\n",
    "\n",
    "Hospital characteristics investigated: Hospital Type, Hospital Ownership, and State"
   ]
  },
  {
   "cell_type": "markdown",
   "metadata": {},
   "source": [
    "\n",
    "\n",
    "### Importing the python packages and data"
   ]
  },
  {
   "cell_type": "code",
   "execution_count": 27,
   "metadata": {
    "scrolled": false
   },
   "outputs": [
    {
     "data": {
      "text/html": [
       "<div>\n",
       "<style scoped>\n",
       "    .dataframe tbody tr th:only-of-type {\n",
       "        vertical-align: middle;\n",
       "    }\n",
       "\n",
       "    .dataframe tbody tr th {\n",
       "        vertical-align: top;\n",
       "    }\n",
       "\n",
       "    .dataframe thead th {\n",
       "        text-align: right;\n",
       "    }\n",
       "</style>\n",
       "<table border=\"1\" class=\"dataframe\">\n",
       "  <thead>\n",
       "    <tr style=\"text-align: right;\">\n",
       "      <th></th>\n",
       "      <th>ProviderID</th>\n",
       "      <th>HospitalName</th>\n",
       "      <th>Address</th>\n",
       "      <th>City</th>\n",
       "      <th>State</th>\n",
       "      <th>ZIPCode</th>\n",
       "      <th>CountyName</th>\n",
       "      <th>PhoneNumber</th>\n",
       "      <th>HospitalType</th>\n",
       "      <th>HospitalOwnership</th>\n",
       "      <th>...</th>\n",
       "      <th>Patientexperiencenationalcomparison</th>\n",
       "      <th>Patientexperiencenationalcomparisonfootnote</th>\n",
       "      <th>Effectivenessofcarenationalcomparison</th>\n",
       "      <th>Effectivenessofcarenationalcomparisonfootnote</th>\n",
       "      <th>Timelinessofcarenationalcomparison</th>\n",
       "      <th>Timelinessofcarenationalcomparisonfootnote</th>\n",
       "      <th>Efficientuseofmedicalimagingnationalcomparison</th>\n",
       "      <th>Efficientuseofmedicalimagingnationalcomparisonfootnote</th>\n",
       "      <th>Location</th>\n",
       "      <th>filter_$</th>\n",
       "    </tr>\n",
       "  </thead>\n",
       "  <tbody>\n",
       "    <tr>\n",
       "      <th>0</th>\n",
       "      <td>10005</td>\n",
       "      <td>MARSHALL MEDICAL CENTER SOUTH</td>\n",
       "      <td>2505 U S HIGHWAY 431 NORTH</td>\n",
       "      <td>BOAZ</td>\n",
       "      <td>AL</td>\n",
       "      <td>35957</td>\n",
       "      <td>MARSHALL</td>\n",
       "      <td>2565938310</td>\n",
       "      <td>Acute Care Hospitals</td>\n",
       "      <td>Government - Hospital District or Authority</td>\n",
       "      <td>...</td>\n",
       "      <td>Same as the national average</td>\n",
       "      <td>NaN</td>\n",
       "      <td>Same as the national average</td>\n",
       "      <td>NaN</td>\n",
       "      <td>Above the national average</td>\n",
       "      <td>NaN</td>\n",
       "      <td>Below the national average</td>\n",
       "      <td>NaN</td>\n",
       "      <td>2505 U S HIGHWAY 431 NORTH BOAZ, AL</td>\n",
       "      <td>1</td>\n",
       "    </tr>\n",
       "    <tr>\n",
       "      <th>1</th>\n",
       "      <td>10012</td>\n",
       "      <td>DEKALB REGIONAL MEDICAL CENTER</td>\n",
       "      <td>200 MED CENTER DRIVE</td>\n",
       "      <td>FORT PAYNE</td>\n",
       "      <td>AL</td>\n",
       "      <td>35968</td>\n",
       "      <td>DE KALB</td>\n",
       "      <td>2568453150</td>\n",
       "      <td>Acute Care Hospitals</td>\n",
       "      <td>Proprietary</td>\n",
       "      <td>...</td>\n",
       "      <td>Below the national average</td>\n",
       "      <td>NaN</td>\n",
       "      <td>Same as the national average</td>\n",
       "      <td>NaN</td>\n",
       "      <td>Above the national average</td>\n",
       "      <td>NaN</td>\n",
       "      <td>Same as the national average</td>\n",
       "      <td>NaN</td>\n",
       "      <td>200 MED CENTER DRIVE FORT PAYNE, AL</td>\n",
       "      <td>1</td>\n",
       "    </tr>\n",
       "    <tr>\n",
       "      <th>2</th>\n",
       "      <td>10095</td>\n",
       "      <td>HALE COUNTY HOSPITAL</td>\n",
       "      <td>508 GREEN STREET</td>\n",
       "      <td>GREENSBORO</td>\n",
       "      <td>AL</td>\n",
       "      <td>36744</td>\n",
       "      <td>HALE</td>\n",
       "      <td>3346243024</td>\n",
       "      <td>Acute Care Hospitals</td>\n",
       "      <td>Government - Hospital District or Authority</td>\n",
       "      <td>...</td>\n",
       "      <td>Not Available</td>\n",
       "      <td>There are too few measures or measure groups r...</td>\n",
       "      <td>Same as the national average</td>\n",
       "      <td>NaN</td>\n",
       "      <td>Same as the national average</td>\n",
       "      <td>NaN</td>\n",
       "      <td>Not Available</td>\n",
       "      <td>Results are not available for this reporting p...</td>\n",
       "      <td>508 GREEN STREET GREENSBORO, AL</td>\n",
       "      <td>1</td>\n",
       "    </tr>\n",
       "    <tr>\n",
       "      <th>3</th>\n",
       "      <td>10131</td>\n",
       "      <td>CRESTWOOD MEDICAL CENTER</td>\n",
       "      <td>ONE HOSPITAL DR SE</td>\n",
       "      <td>HUNTSVILLE</td>\n",
       "      <td>AL</td>\n",
       "      <td>35801</td>\n",
       "      <td>MADISON</td>\n",
       "      <td>2568823100</td>\n",
       "      <td>Acute Care Hospitals</td>\n",
       "      <td>Proprietary</td>\n",
       "      <td>...</td>\n",
       "      <td>Below the national average</td>\n",
       "      <td>NaN</td>\n",
       "      <td>Same as the national average</td>\n",
       "      <td>NaN</td>\n",
       "      <td>Below the national average</td>\n",
       "      <td>NaN</td>\n",
       "      <td>Same as the national average</td>\n",
       "      <td>NaN</td>\n",
       "      <td>ONE HOSPITAL DR SE HUNTSVILLE, AL</td>\n",
       "      <td>1</td>\n",
       "    </tr>\n",
       "    <tr>\n",
       "      <th>4</th>\n",
       "      <td>20018</td>\n",
       "      <td>YUKON KUSKOKWIM DELTA REG HOSPITAL</td>\n",
       "      <td>PO BOX 287</td>\n",
       "      <td>BETHEL</td>\n",
       "      <td>AK</td>\n",
       "      <td>99559</td>\n",
       "      <td>BETHEL</td>\n",
       "      <td>9075436300</td>\n",
       "      <td>Acute Care Hospitals</td>\n",
       "      <td>Tribal</td>\n",
       "      <td>...</td>\n",
       "      <td>Below the national average</td>\n",
       "      <td>NaN</td>\n",
       "      <td>Same as the national average</td>\n",
       "      <td>NaN</td>\n",
       "      <td>Not Available</td>\n",
       "      <td>Results are not available for this reporting p...</td>\n",
       "      <td>Not Available</td>\n",
       "      <td>There are too few measures or measure groups r...</td>\n",
       "      <td>PO BOX 287 BETHEL, AK</td>\n",
       "      <td>1</td>\n",
       "    </tr>\n",
       "  </tbody>\n",
       "</table>\n",
       "<p>5 rows × 30 columns</p>\n",
       "</div>"
      ],
      "text/plain": [
       "   ProviderID                        HospitalName                     Address  \\\n",
       "0       10005       MARSHALL MEDICAL CENTER SOUTH  2505 U S HIGHWAY 431 NORTH   \n",
       "1       10012      DEKALB REGIONAL MEDICAL CENTER        200 MED CENTER DRIVE   \n",
       "2       10095                HALE COUNTY HOSPITAL            508 GREEN STREET   \n",
       "3       10131            CRESTWOOD MEDICAL CENTER          ONE HOSPITAL DR SE   \n",
       "4       20018  YUKON KUSKOKWIM DELTA REG HOSPITAL                  PO BOX 287   \n",
       "\n",
       "         City State  ZIPCode CountyName  PhoneNumber          HospitalType  \\\n",
       "0        BOAZ    AL    35957   MARSHALL   2565938310  Acute Care Hospitals   \n",
       "1  FORT PAYNE    AL    35968    DE KALB   2568453150  Acute Care Hospitals   \n",
       "2  GREENSBORO    AL    36744       HALE   3346243024  Acute Care Hospitals   \n",
       "3  HUNTSVILLE    AL    35801    MADISON   2568823100  Acute Care Hospitals   \n",
       "4      BETHEL    AK    99559     BETHEL   9075436300  Acute Care Hospitals   \n",
       "\n",
       "                             HospitalOwnership   ...     \\\n",
       "0  Government - Hospital District or Authority   ...      \n",
       "1                                  Proprietary   ...      \n",
       "2  Government - Hospital District or Authority   ...      \n",
       "3                                  Proprietary   ...      \n",
       "4                                       Tribal   ...      \n",
       "\n",
       "   Patientexperiencenationalcomparison  \\\n",
       "0         Same as the national average   \n",
       "1           Below the national average   \n",
       "2                        Not Available   \n",
       "3           Below the national average   \n",
       "4           Below the national average   \n",
       "\n",
       "         Patientexperiencenationalcomparisonfootnote  \\\n",
       "0                                                NaN   \n",
       "1                                                NaN   \n",
       "2  There are too few measures or measure groups r...   \n",
       "3                                                NaN   \n",
       "4                                                NaN   \n",
       "\n",
       "   Effectivenessofcarenationalcomparison  \\\n",
       "0           Same as the national average   \n",
       "1           Same as the national average   \n",
       "2           Same as the national average   \n",
       "3           Same as the national average   \n",
       "4           Same as the national average   \n",
       "\n",
       "  Effectivenessofcarenationalcomparisonfootnote  \\\n",
       "0                                           NaN   \n",
       "1                                           NaN   \n",
       "2                                           NaN   \n",
       "3                                           NaN   \n",
       "4                                           NaN   \n",
       "\n",
       "  Timelinessofcarenationalcomparison  \\\n",
       "0         Above the national average   \n",
       "1         Above the national average   \n",
       "2       Same as the national average   \n",
       "3         Below the national average   \n",
       "4                      Not Available   \n",
       "\n",
       "          Timelinessofcarenationalcomparisonfootnote  \\\n",
       "0                                                NaN   \n",
       "1                                                NaN   \n",
       "2                                                NaN   \n",
       "3                                                NaN   \n",
       "4  Results are not available for this reporting p...   \n",
       "\n",
       "  Efficientuseofmedicalimagingnationalcomparison  \\\n",
       "0                     Below the national average   \n",
       "1                   Same as the national average   \n",
       "2                                  Not Available   \n",
       "3                   Same as the national average   \n",
       "4                                  Not Available   \n",
       "\n",
       "  Efficientuseofmedicalimagingnationalcomparisonfootnote  \\\n",
       "0                                                NaN       \n",
       "1                                                NaN       \n",
       "2  Results are not available for this reporting p...       \n",
       "3                                                NaN       \n",
       "4  There are too few measures or measure groups r...       \n",
       "\n",
       "                              Location filter_$  \n",
       "0  2505 U S HIGHWAY 431 NORTH BOAZ, AL        1  \n",
       "1  200 MED CENTER DRIVE FORT PAYNE, AL        1  \n",
       "2      508 GREEN STREET GREENSBORO, AL        1  \n",
       "3    ONE HOSPITAL DR SE HUNTSVILLE, AL        1  \n",
       "4                PO BOX 287 BETHEL, AK        1  \n",
       "\n",
       "[5 rows x 30 columns]"
      ]
     },
     "execution_count": 27,
     "metadata": {},
     "output_type": "execute_result"
    }
   ],
   "source": [
    "import numpy as np\n",
    "import pandas as pd\n",
    "import seaborn\n",
    "import matplotlib.pyplot as plt\n",
    "df = pd.read_csv ('Hospital_Data.csv')\n",
    "df.head()"
   ]
  },
  {
   "cell_type": "markdown",
   "metadata": {},
   "source": [
    "\n",
    "\n",
    "### A new dataframe is created with the variables of interest"
   ]
  },
  {
   "cell_type": "code",
   "execution_count": 30,
   "metadata": {
    "scrolled": true
   },
   "outputs": [
    {
     "data": {
      "text/html": [
       "<div>\n",
       "<style scoped>\n",
       "    .dataframe tbody tr th:only-of-type {\n",
       "        vertical-align: middle;\n",
       "    }\n",
       "\n",
       "    .dataframe tbody tr th {\n",
       "        vertical-align: top;\n",
       "    }\n",
       "\n",
       "    .dataframe thead th {\n",
       "        text-align: right;\n",
       "    }\n",
       "</style>\n",
       "<table border=\"1\" class=\"dataframe\">\n",
       "  <thead>\n",
       "    <tr style=\"text-align: right;\">\n",
       "      <th></th>\n",
       "      <th>ProviderID</th>\n",
       "      <th>HospitalName</th>\n",
       "      <th>State</th>\n",
       "      <th>HospitalType</th>\n",
       "      <th>HospitalOwnership</th>\n",
       "      <th>EmergencyServices</th>\n",
       "      <th>Hospitaloverallrating</th>\n",
       "    </tr>\n",
       "  </thead>\n",
       "  <tbody>\n",
       "    <tr>\n",
       "      <th>0</th>\n",
       "      <td>10005</td>\n",
       "      <td>MARSHALL MEDICAL CENTER SOUTH</td>\n",
       "      <td>AL</td>\n",
       "      <td>Acute Care Hospitals</td>\n",
       "      <td>Government - Hospital District or Authority</td>\n",
       "      <td>1</td>\n",
       "      <td>2</td>\n",
       "    </tr>\n",
       "    <tr>\n",
       "      <th>1</th>\n",
       "      <td>10012</td>\n",
       "      <td>DEKALB REGIONAL MEDICAL CENTER</td>\n",
       "      <td>AL</td>\n",
       "      <td>Acute Care Hospitals</td>\n",
       "      <td>Proprietary</td>\n",
       "      <td>1</td>\n",
       "      <td>3</td>\n",
       "    </tr>\n",
       "    <tr>\n",
       "      <th>2</th>\n",
       "      <td>10095</td>\n",
       "      <td>HALE COUNTY HOSPITAL</td>\n",
       "      <td>AL</td>\n",
       "      <td>Acute Care Hospitals</td>\n",
       "      <td>Government - Hospital District or Authority</td>\n",
       "      <td>1</td>\n",
       "      <td>3</td>\n",
       "    </tr>\n",
       "    <tr>\n",
       "      <th>3</th>\n",
       "      <td>10131</td>\n",
       "      <td>CRESTWOOD MEDICAL CENTER</td>\n",
       "      <td>AL</td>\n",
       "      <td>Acute Care Hospitals</td>\n",
       "      <td>Proprietary</td>\n",
       "      <td>1</td>\n",
       "      <td>2</td>\n",
       "    </tr>\n",
       "    <tr>\n",
       "      <th>4</th>\n",
       "      <td>20018</td>\n",
       "      <td>YUKON KUSKOKWIM DELTA REG HOSPITAL</td>\n",
       "      <td>AK</td>\n",
       "      <td>Acute Care Hospitals</td>\n",
       "      <td>Tribal</td>\n",
       "      <td>1</td>\n",
       "      <td>3</td>\n",
       "    </tr>\n",
       "  </tbody>\n",
       "</table>\n",
       "</div>"
      ],
      "text/plain": [
       "   ProviderID                        HospitalName State          HospitalType  \\\n",
       "0       10005       MARSHALL MEDICAL CENTER SOUTH    AL  Acute Care Hospitals   \n",
       "1       10012      DEKALB REGIONAL MEDICAL CENTER    AL  Acute Care Hospitals   \n",
       "2       10095                HALE COUNTY HOSPITAL    AL  Acute Care Hospitals   \n",
       "3       10131            CRESTWOOD MEDICAL CENTER    AL  Acute Care Hospitals   \n",
       "4       20018  YUKON KUSKOKWIM DELTA REG HOSPITAL    AK  Acute Care Hospitals   \n",
       "\n",
       "                             HospitalOwnership  EmergencyServices  \\\n",
       "0  Government - Hospital District or Authority                  1   \n",
       "1                                  Proprietary                  1   \n",
       "2  Government - Hospital District or Authority                  1   \n",
       "3                                  Proprietary                  1   \n",
       "4                                       Tribal                  1   \n",
       "\n",
       "   Hospitaloverallrating  \n",
       "0                      2  \n",
       "1                      3  \n",
       "2                      3  \n",
       "3                      2  \n",
       "4                      3  "
      ]
     },
     "execution_count": 30,
     "metadata": {},
     "output_type": "execute_result"
    }
   ],
   "source": [
    "dfb=pd.DataFrame(df, columns=['ProviderID', 'HospitalName', 'State', 'HospitalType', 'HospitalOwnership', 'Hospitaloverallrating'])\n",
    "dfb.head()"
   ]
  },
  {
   "cell_type": "markdown",
   "metadata": {},
   "source": [
    "\n",
    "\n",
    "### Descriptive statistics for Hospital Overall Ratings (from 1 to 5)"
   ]
  },
  {
   "cell_type": "code",
   "execution_count": 31,
   "metadata": {},
   "outputs": [
    {
     "data": {
      "text/plain": [
       "count    3675.000000\n",
       "mean        3.151020\n",
       "std         1.068577\n",
       "min         1.000000\n",
       "25%         2.000000\n",
       "50%         3.000000\n",
       "75%         4.000000\n",
       "max         5.000000\n",
       "Name: Hospitaloverallrating, dtype: float64"
      ]
     },
     "execution_count": 31,
     "metadata": {},
     "output_type": "execute_result"
    }
   ],
   "source": [
    "dfb['Hospitaloverallrating'].describe()"
   ]
  },
  {
   "cell_type": "markdown",
   "metadata": {},
   "source": [
    "\n",
    "\n",
    "### Frequency distribution for Hospital Overall Ratings (from 1 to 5)\n",
    "Most of the hospitals have earned average ratings (3&4) whereas few hospitals have earned extreme ratings (1&5). "
   ]
  },
  {
   "cell_type": "code",
   "execution_count": 32,
   "metadata": {
    "scrolled": false
   },
   "outputs": [
    {
     "name": "stdout",
     "output_type": "stream",
     "text": [
      "3    1178\n",
      "4    1153\n",
      "2     750\n",
      "5     335\n",
      "1     259\n",
      "Name: Hospitaloverallrating, dtype: int64\n"
     ]
    }
   ],
   "source": [
    "rating_count = dfb['Hospitaloverallrating'].value_counts() \n",
    "print(rating_count)"
   ]
  },
  {
   "cell_type": "markdown",
   "metadata": {},
   "source": [
    "\n",
    "\n",
    "### Bar chart for Hospital Overall Ratings (from 1 to 5)\n",
    "The bar chart makes it easier to see that most of the hospitals have earned average ratings (3&4) whereas few hospitals have earned extreme ratings (1&5)."
   ]
  },
  {
   "cell_type": "code",
   "execution_count": 10,
   "metadata": {
    "scrolled": true
   },
   "outputs": [
    {
     "data": {
      "text/plain": [
       "<matplotlib.axes._subplots.AxesSubplot at 0x11dc67860>"
      ]
     },
     "execution_count": 10,
     "metadata": {},
     "output_type": "execute_result"
    },
    {
     "data": {
      "image/png": "[encoded data removed]",
      "text/plain": [
       "<Figure size 432x288 with 1 Axes>"
      ]
     },
     "metadata": {
      "needs_background": "light"
     },
     "output_type": "display_data"
    }
   ],
   "source": [
    "from pandas import Series,DataFrame\n",
    "rating_count.plot(kind='bar')"
   ]
  },
  {
   "cell_type": "markdown",
   "metadata": {},
   "source": [
    "\n",
    "\n",
    "### Frequency distribution for Hospital Ownership Type"
   ]
  },
  {
   "cell_type": "code",
   "execution_count": 45,
   "metadata": {
    "scrolled": false
   },
   "outputs": [
    {
     "name": "stdout",
     "output_type": "stream",
     "text": [
      "Voluntary non-profit - Private                 1699\n",
      "Proprietary                                     634\n",
      "Voluntary non-profit - Other                    360\n",
      "Government - Hospital District or Authority     332\n",
      "Voluntary non-profit - Church                   299\n",
      "Government - Local                              259\n",
      "Government - State                               43\n",
      "Physician                                        29\n",
      "Government - Federal                             16\n",
      "Tribal                                            4\n",
      "Name: HospitalOwnership, dtype: int64\n"
     ]
    }
   ],
   "source": [
    "ownership_count = dfb['HospitalOwnership'].value_counts()\n",
    "print(ownership_count)"
   ]
  },
  {
   "cell_type": "markdown",
   "metadata": {},
   "source": [
    "\n",
    "\n",
    "### Bar chart showing the number of hospitals for each Hospital Ownership Type"
   ]
  },
  {
   "cell_type": "code",
   "execution_count": 46,
   "metadata": {
    "scrolled": false
   },
   "outputs": [
    {
     "data": {
      "text/plain": [
       "<matplotlib.axes._subplots.AxesSubplot at 0x1a24d54a58>"
      ]
     },
     "execution_count": 46,
     "metadata": {},
     "output_type": "execute_result"
    },
    {
     "data": {
      "image/png": "[encoded data removed]",
      "text/plain": [
       "<Figure size 432x288 with 1 Axes>"
      ]
     },
     "metadata": {
      "needs_background": "light"
     },
     "output_type": "display_data"
    }
   ],
   "source": [
    "from pandas import Series,DataFrame\n",
    "ownership_count.plot(kind='bar')"
   ]
  },
  {
   "cell_type": "markdown",
   "metadata": {},
   "source": [
    "\n",
    "\n",
    "### Number of hospitals for each Hospital Type \n",
    "Acute care hospitals: Most inpatient acute hospital stays are short, while patients in long-term acute care hospitals may be fighting more than one condition or have more complicated illnesses. They provide acute care for Medicare patients who need extended or more intensive care. \n",
    "\n",
    "Critical access hospitals: Rural hospitals which have 25 or fewer acute care inpatient beds"
   ]
  },
  {
   "cell_type": "code",
   "execution_count": 7,
   "metadata": {},
   "outputs": [
    {
     "name": "stdout",
     "output_type": "stream",
     "text": [
      "Acute Care Hospitals         3025\n",
      "Critical Access Hospitals     650\n",
      "Name: HospitalType, dtype: int64\n"
     ]
    }
   ],
   "source": [
    "type_count = dfb['HospitalType'].value_counts()\n",
    "print(type_count)"
   ]
  },
  {
   "cell_type": "markdown",
   "metadata": {},
   "source": [
    "\n",
    "\n",
    "### Crosstab: Hospital Type & Hospital Ownership Type\n",
    "There are more acute care hospitals and critical access hospitals for all hospital ownership types."
   ]
  },
  {
   "cell_type": "code",
   "execution_count": 40,
   "metadata": {
    "scrolled": true
   },
   "outputs": [
    {
     "data": {
      "text/html": [
       "<div>\n",
       "<style scoped>\n",
       "    .dataframe tbody tr th:only-of-type {\n",
       "        vertical-align: middle;\n",
       "    }\n",
       "\n",
       "    .dataframe tbody tr th {\n",
       "        vertical-align: top;\n",
       "    }\n",
       "\n",
       "    .dataframe thead th {\n",
       "        text-align: right;\n",
       "    }\n",
       "</style>\n",
       "<table border=\"1\" class=\"dataframe\">\n",
       "  <thead>\n",
       "    <tr style=\"text-align: right;\">\n",
       "      <th>HospitalOwnership</th>\n",
       "      <th>Government - Federal</th>\n",
       "      <th>Government - Hospital District or Authority</th>\n",
       "      <th>Government - Local</th>\n",
       "      <th>Government - State</th>\n",
       "      <th>Physician</th>\n",
       "      <th>Proprietary</th>\n",
       "      <th>Tribal</th>\n",
       "      <th>Voluntary non-profit - Church</th>\n",
       "      <th>Voluntary non-profit - Other</th>\n",
       "      <th>Voluntary non-profit - Private</th>\n",
       "    </tr>\n",
       "    <tr>\n",
       "      <th>HospitalType</th>\n",
       "      <th></th>\n",
       "      <th></th>\n",
       "      <th></th>\n",
       "      <th></th>\n",
       "      <th></th>\n",
       "      <th></th>\n",
       "      <th></th>\n",
       "      <th></th>\n",
       "      <th></th>\n",
       "      <th></th>\n",
       "    </tr>\n",
       "  </thead>\n",
       "  <tbody>\n",
       "    <tr>\n",
       "      <th>Acute Care Hospitals</th>\n",
       "      <td>15</td>\n",
       "      <td>245</td>\n",
       "      <td>158</td>\n",
       "      <td>39</td>\n",
       "      <td>29</td>\n",
       "      <td>605</td>\n",
       "      <td>3</td>\n",
       "      <td>259</td>\n",
       "      <td>313</td>\n",
       "      <td>1359</td>\n",
       "    </tr>\n",
       "    <tr>\n",
       "      <th>Critical Access Hospitals</th>\n",
       "      <td>1</td>\n",
       "      <td>87</td>\n",
       "      <td>101</td>\n",
       "      <td>4</td>\n",
       "      <td>0</td>\n",
       "      <td>29</td>\n",
       "      <td>1</td>\n",
       "      <td>40</td>\n",
       "      <td>47</td>\n",
       "      <td>340</td>\n",
       "    </tr>\n",
       "  </tbody>\n",
       "</table>\n",
       "</div>"
      ],
      "text/plain": [
       "HospitalOwnership          Government - Federal  \\\n",
       "HospitalType                                      \n",
       "Acute Care Hospitals                         15   \n",
       "Critical Access Hospitals                     1   \n",
       "\n",
       "HospitalOwnership          Government - Hospital District or Authority  \\\n",
       "HospitalType                                                             \n",
       "Acute Care Hospitals                                               245   \n",
       "Critical Access Hospitals                                           87   \n",
       "\n",
       "HospitalOwnership          Government - Local  Government - State  Physician  \\\n",
       "HospitalType                                                                   \n",
       "Acute Care Hospitals                      158                  39         29   \n",
       "Critical Access Hospitals                 101                   4          0   \n",
       "\n",
       "HospitalOwnership          Proprietary  Tribal  Voluntary non-profit - Church  \\\n",
       "HospitalType                                                                    \n",
       "Acute Care Hospitals               605       3                            259   \n",
       "Critical Access Hospitals           29       1                             40   \n",
       "\n",
       "HospitalOwnership          Voluntary non-profit - Other  \\\n",
       "HospitalType                                              \n",
       "Acute Care Hospitals                                313   \n",
       "Critical Access Hospitals                            47   \n",
       "\n",
       "HospitalOwnership          Voluntary non-profit - Private  \n",
       "HospitalType                                               \n",
       "Acute Care Hospitals                                 1359  \n",
       "Critical Access Hospitals                             340  "
      ]
     },
     "execution_count": 40,
     "metadata": {},
     "output_type": "execute_result"
    }
   ],
   "source": [
    "import seaborn as sns\n",
    "pd.crosstab(dfb.HospitalType, dfb.HospitalOwnership)"
   ]
  },
  {
   "cell_type": "markdown",
   "metadata": {},
   "source": [
    "\n",
    "\n",
    "### Box plot: Hospital Overall Rating & Hospital Type\n",
    "The boxplot shows that the average rating of Acute Care Hospitals is less than the average rating of Critical Access Hospitals. Ratings of Acute Care Hospitals show much more variation than the ratings of Critical Access Hospitals. "
   ]
  },
  {
   "cell_type": "code",
   "execution_count": 42,
   "metadata": {},
   "outputs": [
    {
     "data": {
      "text/plain": [
       "Text(0, 0.5, 'Hospital Overall Rating')"
      ]
     },
     "execution_count": 42,
     "metadata": {},
     "output_type": "execute_result"
    },
    {
     "data": {
      "image/png": "[encoded data removed]",
      "text/plain": [
       "<Figure size 432x288 with 1 Axes>"
      ]
     },
     "metadata": {
      "needs_background": "light"
     },
     "output_type": "display_data"
    }
   ],
   "source": [
    "import seaborn as sns\n",
    "%matplotlib inline\n",
    "sns.boxplot(x='HospitalType', y='Hospitaloverallrating', data=dfb) \n",
    "plt.xlabel(\"Hospital Type\")\n",
    "plt.ylabel('Hospital Overall Rating')"
   ]
  },
  {
   "cell_type": "markdown",
   "metadata": {},
   "source": [
    "### Mean Hospital Overall Rating for each Hospital Type"
   ]
  },
  {
   "cell_type": "code",
   "execution_count": 49,
   "metadata": {},
   "outputs": [
    {
     "data": {
      "text/html": [
       "<div>\n",
       "<style scoped>\n",
       "    .dataframe tbody tr th:only-of-type {\n",
       "        vertical-align: middle;\n",
       "    }\n",
       "\n",
       "    .dataframe tbody tr th {\n",
       "        vertical-align: top;\n",
       "    }\n",
       "\n",
       "    .dataframe thead th {\n",
       "        text-align: right;\n",
       "    }\n",
       "</style>\n",
       "<table border=\"1\" class=\"dataframe\">\n",
       "  <thead>\n",
       "    <tr style=\"text-align: right;\">\n",
       "      <th></th>\n",
       "      <th>HospitalType</th>\n",
       "      <th>Hospitaloverallrating</th>\n",
       "    </tr>\n",
       "  </thead>\n",
       "  <tbody>\n",
       "    <tr>\n",
       "      <th>0</th>\n",
       "      <td>Acute Care Hospitals</td>\n",
       "      <td>3.075372</td>\n",
       "    </tr>\n",
       "    <tr>\n",
       "      <th>1</th>\n",
       "      <td>Critical Access Hospitals</td>\n",
       "      <td>3.503077</td>\n",
       "    </tr>\n",
       "  </tbody>\n",
       "</table>\n",
       "</div>"
      ],
      "text/plain": [
       "                HospitalType  Hospitaloverallrating\n",
       "0       Acute Care Hospitals               3.075372\n",
       "1  Critical Access Hospitals               3.503077"
      ]
     },
     "execution_count": 49,
     "metadata": {},
     "output_type": "execute_result"
    }
   ],
   "source": [
    "ratings_type = dfb.groupby('HospitalType', as_index=False)['Hospitaloverallrating'].mean()\n",
    "ratings_type"
   ]
  },
  {
   "cell_type": "markdown",
   "metadata": {},
   "source": [
    "\n",
    "### Crosstab: Hospital Overall Rating & Hospital Type\n",
    "The crostab confirms that hospital ratings for acute care hospitals are distributed more evenly whereas the rating distribution of critical access hospitals is more skewed toward higher ratings, comparatively."
   ]
  },
  {
   "cell_type": "code",
   "execution_count": 71,
   "metadata": {
    "scrolled": true
   },
   "outputs": [
    {
     "data": {
      "text/html": [
       "<div>\n",
       "<style scoped>\n",
       "    .dataframe tbody tr th:only-of-type {\n",
       "        vertical-align: middle;\n",
       "    }\n",
       "\n",
       "    .dataframe tbody tr th {\n",
       "        vertical-align: top;\n",
       "    }\n",
       "\n",
       "    .dataframe thead th {\n",
       "        text-align: right;\n",
       "    }\n",
       "</style>\n",
       "<table border=\"1\" class=\"dataframe\">\n",
       "  <thead>\n",
       "    <tr style=\"text-align: right;\">\n",
       "      <th>HospitalType</th>\n",
       "      <th>Acute Care Hospitals</th>\n",
       "      <th>Critical Access Hospitals</th>\n",
       "    </tr>\n",
       "    <tr>\n",
       "      <th>Hospitaloverallrating</th>\n",
       "      <th></th>\n",
       "      <th></th>\n",
       "    </tr>\n",
       "  </thead>\n",
       "  <tbody>\n",
       "    <tr>\n",
       "      <th>1</th>\n",
       "      <td>257</td>\n",
       "      <td>2</td>\n",
       "    </tr>\n",
       "    <tr>\n",
       "      <th>2</th>\n",
       "      <td>702</td>\n",
       "      <td>48</td>\n",
       "    </tr>\n",
       "    <tr>\n",
       "      <th>3</th>\n",
       "      <td>922</td>\n",
       "      <td>256</td>\n",
       "    </tr>\n",
       "    <tr>\n",
       "      <th>4</th>\n",
       "      <td>844</td>\n",
       "      <td>309</td>\n",
       "    </tr>\n",
       "    <tr>\n",
       "      <th>5</th>\n",
       "      <td>300</td>\n",
       "      <td>35</td>\n",
       "    </tr>\n",
       "  </tbody>\n",
       "</table>\n",
       "</div>"
      ],
      "text/plain": [
       "HospitalType           Acute Care Hospitals  Critical Access Hospitals\n",
       "Hospitaloverallrating                                                 \n",
       "1                                       257                          2\n",
       "2                                       702                         48\n",
       "3                                       922                        256\n",
       "4                                       844                        309\n",
       "5                                       300                         35"
      ]
     },
     "execution_count": 71,
     "metadata": {},
     "output_type": "execute_result"
    }
   ],
   "source": [
    "import seaborn as sns\n",
    "pd.crosstab(df.Hospitaloverallrating, df.HospitalType)"
   ]
  },
  {
   "cell_type": "markdown",
   "metadata": {},
   "source": [
    "### Mean Hospital Overall Rating in each State"
   ]
  },
  {
   "cell_type": "code",
   "execution_count": 17,
   "metadata": {},
   "outputs": [
    {
     "data": {
      "text/html": [
       "<div>\n",
       "<style scoped>\n",
       "    .dataframe tbody tr th:only-of-type {\n",
       "        vertical-align: middle;\n",
       "    }\n",
       "\n",
       "    .dataframe tbody tr th {\n",
       "        vertical-align: top;\n",
       "    }\n",
       "\n",
       "    .dataframe thead th {\n",
       "        text-align: right;\n",
       "    }\n",
       "</style>\n",
       "<table border=\"1\" class=\"dataframe\">\n",
       "  <thead>\n",
       "    <tr style=\"text-align: right;\">\n",
       "      <th></th>\n",
       "      <th>State</th>\n",
       "      <th>Hospitaloverallrating</th>\n",
       "    </tr>\n",
       "  </thead>\n",
       "  <tbody>\n",
       "    <tr>\n",
       "      <th>0</th>\n",
       "      <td>AK</td>\n",
       "      <td>3.100000</td>\n",
       "    </tr>\n",
       "    <tr>\n",
       "      <th>1</th>\n",
       "      <td>AL</td>\n",
       "      <td>2.975309</td>\n",
       "    </tr>\n",
       "    <tr>\n",
       "      <th>2</th>\n",
       "      <td>AR</td>\n",
       "      <td>2.767857</td>\n",
       "    </tr>\n",
       "    <tr>\n",
       "      <th>3</th>\n",
       "      <td>AZ</td>\n",
       "      <td>3.105263</td>\n",
       "    </tr>\n",
       "    <tr>\n",
       "      <th>4</th>\n",
       "      <td>CA</td>\n",
       "      <td>2.896907</td>\n",
       "    </tr>\n",
       "    <tr>\n",
       "      <th>5</th>\n",
       "      <td>CO</td>\n",
       "      <td>3.769231</td>\n",
       "    </tr>\n",
       "    <tr>\n",
       "      <th>6</th>\n",
       "      <td>CT</td>\n",
       "      <td>2.892857</td>\n",
       "    </tr>\n",
       "    <tr>\n",
       "      <th>7</th>\n",
       "      <td>DC</td>\n",
       "      <td>1.714286</td>\n",
       "    </tr>\n",
       "    <tr>\n",
       "      <th>8</th>\n",
       "      <td>DE</td>\n",
       "      <td>3.833333</td>\n",
       "    </tr>\n",
       "    <tr>\n",
       "      <th>9</th>\n",
       "      <td>FL</td>\n",
       "      <td>2.464286</td>\n",
       "    </tr>\n",
       "    <tr>\n",
       "      <th>10</th>\n",
       "      <td>GA</td>\n",
       "      <td>2.990566</td>\n",
       "    </tr>\n",
       "    <tr>\n",
       "      <th>11</th>\n",
       "      <td>GU</td>\n",
       "      <td>2.000000</td>\n",
       "    </tr>\n",
       "    <tr>\n",
       "      <th>12</th>\n",
       "      <td>HI</td>\n",
       "      <td>3.769231</td>\n",
       "    </tr>\n",
       "    <tr>\n",
       "      <th>13</th>\n",
       "      <td>IA</td>\n",
       "      <td>3.457831</td>\n",
       "    </tr>\n",
       "    <tr>\n",
       "      <th>14</th>\n",
       "      <td>ID</td>\n",
       "      <td>3.869565</td>\n",
       "    </tr>\n",
       "    <tr>\n",
       "      <th>15</th>\n",
       "      <td>IL</td>\n",
       "      <td>3.167702</td>\n",
       "    </tr>\n",
       "    <tr>\n",
       "      <th>16</th>\n",
       "      <td>IN</td>\n",
       "      <td>3.622807</td>\n",
       "    </tr>\n",
       "    <tr>\n",
       "      <th>17</th>\n",
       "      <td>KS</td>\n",
       "      <td>3.500000</td>\n",
       "    </tr>\n",
       "    <tr>\n",
       "      <th>18</th>\n",
       "      <td>KY</td>\n",
       "      <td>2.833333</td>\n",
       "    </tr>\n",
       "    <tr>\n",
       "      <th>19</th>\n",
       "      <td>LA</td>\n",
       "      <td>3.115385</td>\n",
       "    </tr>\n",
       "    <tr>\n",
       "      <th>20</th>\n",
       "      <td>MA</td>\n",
       "      <td>3.357143</td>\n",
       "    </tr>\n",
       "    <tr>\n",
       "      <th>21</th>\n",
       "      <td>MD</td>\n",
       "      <td>2.977778</td>\n",
       "    </tr>\n",
       "    <tr>\n",
       "      <th>22</th>\n",
       "      <td>ME</td>\n",
       "      <td>3.562500</td>\n",
       "    </tr>\n",
       "    <tr>\n",
       "      <th>23</th>\n",
       "      <td>MI</td>\n",
       "      <td>3.410256</td>\n",
       "    </tr>\n",
       "    <tr>\n",
       "      <th>24</th>\n",
       "      <td>MN</td>\n",
       "      <td>3.737500</td>\n",
       "    </tr>\n",
       "    <tr>\n",
       "      <th>25</th>\n",
       "      <td>MO</td>\n",
       "      <td>3.098901</td>\n",
       "    </tr>\n",
       "    <tr>\n",
       "      <th>26</th>\n",
       "      <td>MS</td>\n",
       "      <td>2.656250</td>\n",
       "    </tr>\n",
       "    <tr>\n",
       "      <th>27</th>\n",
       "      <td>MT</td>\n",
       "      <td>3.560000</td>\n",
       "    </tr>\n",
       "    <tr>\n",
       "      <th>28</th>\n",
       "      <td>NC</td>\n",
       "      <td>3.119565</td>\n",
       "    </tr>\n",
       "    <tr>\n",
       "      <th>29</th>\n",
       "      <td>ND</td>\n",
       "      <td>3.470588</td>\n",
       "    </tr>\n",
       "    <tr>\n",
       "      <th>30</th>\n",
       "      <td>NE</td>\n",
       "      <td>3.540000</td>\n",
       "    </tr>\n",
       "    <tr>\n",
       "      <th>31</th>\n",
       "      <td>NH</td>\n",
       "      <td>3.720000</td>\n",
       "    </tr>\n",
       "    <tr>\n",
       "      <th>32</th>\n",
       "      <td>NJ</td>\n",
       "      <td>2.687500</td>\n",
       "    </tr>\n",
       "    <tr>\n",
       "      <th>33</th>\n",
       "      <td>NM</td>\n",
       "      <td>2.800000</td>\n",
       "    </tr>\n",
       "    <tr>\n",
       "      <th>34</th>\n",
       "      <td>NV</td>\n",
       "      <td>1.960000</td>\n",
       "    </tr>\n",
       "    <tr>\n",
       "      <th>35</th>\n",
       "      <td>NY</td>\n",
       "      <td>2.220000</td>\n",
       "    </tr>\n",
       "    <tr>\n",
       "      <th>36</th>\n",
       "      <td>OH</td>\n",
       "      <td>3.631944</td>\n",
       "    </tr>\n",
       "    <tr>\n",
       "      <th>37</th>\n",
       "      <td>OK</td>\n",
       "      <td>3.243902</td>\n",
       "    </tr>\n",
       "    <tr>\n",
       "      <th>38</th>\n",
       "      <td>OR</td>\n",
       "      <td>3.519231</td>\n",
       "    </tr>\n",
       "    <tr>\n",
       "      <th>39</th>\n",
       "      <td>PA</td>\n",
       "      <td>3.128378</td>\n",
       "    </tr>\n",
       "    <tr>\n",
       "      <th>40</th>\n",
       "      <td>PR</td>\n",
       "      <td>1.666667</td>\n",
       "    </tr>\n",
       "    <tr>\n",
       "      <th>41</th>\n",
       "      <td>RI</td>\n",
       "      <td>3.181818</td>\n",
       "    </tr>\n",
       "    <tr>\n",
       "      <th>42</th>\n",
       "      <td>SC</td>\n",
       "      <td>3.134615</td>\n",
       "    </tr>\n",
       "    <tr>\n",
       "      <th>43</th>\n",
       "      <td>SD</td>\n",
       "      <td>4.117647</td>\n",
       "    </tr>\n",
       "    <tr>\n",
       "      <th>44</th>\n",
       "      <td>TN</td>\n",
       "      <td>2.768421</td>\n",
       "    </tr>\n",
       "    <tr>\n",
       "      <th>45</th>\n",
       "      <td>TX</td>\n",
       "      <td>3.332103</td>\n",
       "    </tr>\n",
       "    <tr>\n",
       "      <th>46</th>\n",
       "      <td>UT</td>\n",
       "      <td>3.870968</td>\n",
       "    </tr>\n",
       "    <tr>\n",
       "      <th>47</th>\n",
       "      <td>VA</td>\n",
       "      <td>3.223684</td>\n",
       "    </tr>\n",
       "    <tr>\n",
       "      <th>48</th>\n",
       "      <td>VI</td>\n",
       "      <td>2.000000</td>\n",
       "    </tr>\n",
       "    <tr>\n",
       "      <th>49</th>\n",
       "      <td>VT</td>\n",
       "      <td>3.333333</td>\n",
       "    </tr>\n",
       "    <tr>\n",
       "      <th>50</th>\n",
       "      <td>WA</td>\n",
       "      <td>3.298507</td>\n",
       "    </tr>\n",
       "    <tr>\n",
       "      <th>51</th>\n",
       "      <td>WI</td>\n",
       "      <td>3.981308</td>\n",
       "    </tr>\n",
       "    <tr>\n",
       "      <th>52</th>\n",
       "      <td>WV</td>\n",
       "      <td>2.974359</td>\n",
       "    </tr>\n",
       "    <tr>\n",
       "      <th>53</th>\n",
       "      <td>WY</td>\n",
       "      <td>3.235294</td>\n",
       "    </tr>\n",
       "  </tbody>\n",
       "</table>\n",
       "</div>"
      ],
      "text/plain": [
       "   State  Hospitaloverallrating\n",
       "0     AK               3.100000\n",
       "1     AL               2.975309\n",
       "2     AR               2.767857\n",
       "3     AZ               3.105263\n",
       "4     CA               2.896907\n",
       "5     CO               3.769231\n",
       "6     CT               2.892857\n",
       "7     DC               1.714286\n",
       "8     DE               3.833333\n",
       "9     FL               2.464286\n",
       "10    GA               2.990566\n",
       "11    GU               2.000000\n",
       "12    HI               3.769231\n",
       "13    IA               3.457831\n",
       "14    ID               3.869565\n",
       "15    IL               3.167702\n",
       "16    IN               3.622807\n",
       "17    KS               3.500000\n",
       "18    KY               2.833333\n",
       "19    LA               3.115385\n",
       "20    MA               3.357143\n",
       "21    MD               2.977778\n",
       "22    ME               3.562500\n",
       "23    MI               3.410256\n",
       "24    MN               3.737500\n",
       "25    MO               3.098901\n",
       "26    MS               2.656250\n",
       "27    MT               3.560000\n",
       "28    NC               3.119565\n",
       "29    ND               3.470588\n",
       "30    NE               3.540000\n",
       "31    NH               3.720000\n",
       "32    NJ               2.687500\n",
       "33    NM               2.800000\n",
       "34    NV               1.960000\n",
       "35    NY               2.220000\n",
       "36    OH               3.631944\n",
       "37    OK               3.243902\n",
       "38    OR               3.519231\n",
       "39    PA               3.128378\n",
       "40    PR               1.666667\n",
       "41    RI               3.181818\n",
       "42    SC               3.134615\n",
       "43    SD               4.117647\n",
       "44    TN               2.768421\n",
       "45    TX               3.332103\n",
       "46    UT               3.870968\n",
       "47    VA               3.223684\n",
       "48    VI               2.000000\n",
       "49    VT               3.333333\n",
       "50    WA               3.298507\n",
       "51    WI               3.981308\n",
       "52    WV               2.974359\n",
       "53    WY               3.235294"
      ]
     },
     "execution_count": 17,
     "metadata": {},
     "output_type": "execute_result"
    }
   ],
   "source": [
    "ratings_state = dfb.groupby('State', as_index=False)['Hospitaloverallrating'].mean()\n",
    "ratings_state"
   ]
  },
  {
   "cell_type": "markdown",
   "metadata": {},
   "source": [
    "\n",
    "\n",
    "### The state with the highest hospital rating mean: South Dakota "
   ]
  },
  {
   "cell_type": "code",
   "execution_count": 18,
   "metadata": {
    "scrolled": true
   },
   "outputs": [
    {
     "data": {
      "text/html": [
       "<div>\n",
       "<style scoped>\n",
       "    .dataframe tbody tr th:only-of-type {\n",
       "        vertical-align: middle;\n",
       "    }\n",
       "\n",
       "    .dataframe tbody tr th {\n",
       "        vertical-align: top;\n",
       "    }\n",
       "\n",
       "    .dataframe thead th {\n",
       "        text-align: right;\n",
       "    }\n",
       "</style>\n",
       "<table border=\"1\" class=\"dataframe\">\n",
       "  <thead>\n",
       "    <tr style=\"text-align: right;\">\n",
       "      <th></th>\n",
       "      <th>State</th>\n",
       "      <th>Hospitaloverallrating</th>\n",
       "    </tr>\n",
       "  </thead>\n",
       "  <tbody>\n",
       "    <tr>\n",
       "      <th>43</th>\n",
       "      <td>SD</td>\n",
       "      <td>4.117647</td>\n",
       "    </tr>\n",
       "  </tbody>\n",
       "</table>\n",
       "</div>"
      ],
      "text/plain": [
       "   State  Hospitaloverallrating\n",
       "43    SD               4.117647"
      ]
     },
     "execution_count": 18,
     "metadata": {},
     "output_type": "execute_result"
    }
   ],
   "source": [
    "\n",
    "ratings_state[ratings_state['Hospitaloverallrating']==ratings_state['Hospitaloverallrating'].max()]"
   ]
  },
  {
   "cell_type": "markdown",
   "metadata": {},
   "source": [
    "\n",
    "\n",
    "### The state with the lowest hospital rating mean: Puerto Rico"
   ]
  },
  {
   "cell_type": "code",
   "execution_count": 19,
   "metadata": {},
   "outputs": [
    {
     "data": {
      "text/html": [
       "<div>\n",
       "<style scoped>\n",
       "    .dataframe tbody tr th:only-of-type {\n",
       "        vertical-align: middle;\n",
       "    }\n",
       "\n",
       "    .dataframe tbody tr th {\n",
       "        vertical-align: top;\n",
       "    }\n",
       "\n",
       "    .dataframe thead th {\n",
       "        text-align: right;\n",
       "    }\n",
       "</style>\n",
       "<table border=\"1\" class=\"dataframe\">\n",
       "  <thead>\n",
       "    <tr style=\"text-align: right;\">\n",
       "      <th></th>\n",
       "      <th>State</th>\n",
       "      <th>Hospitaloverallrating</th>\n",
       "    </tr>\n",
       "  </thead>\n",
       "  <tbody>\n",
       "    <tr>\n",
       "      <th>40</th>\n",
       "      <td>PR</td>\n",
       "      <td>1.666667</td>\n",
       "    </tr>\n",
       "  </tbody>\n",
       "</table>\n",
       "</div>"
      ],
      "text/plain": [
       "   State  Hospitaloverallrating\n",
       "40    PR               1.666667"
      ]
     },
     "execution_count": 19,
     "metadata": {},
     "output_type": "execute_result"
    }
   ],
   "source": [
    "ratings_state[ratings_state['Hospitaloverallrating']==ratings_state['Hospitaloverallrating'].min()]"
   ]
  }
 ],
 "metadata": {
  "kernelspec": {
   "display_name": "Python 3",
   "language": "python",
   "name": "python3"
  },
  "language_info": {
   "codemirror_mode": {
    "name": "ipython",
    "version": 3
   },
   "file_extension": ".py",
   "mimetype": "text/x-python",
   "name": "python",
   "nbconvert_exporter": "python",
   "pygments_lexer": "ipython3",
   "version": "3.7.1"
  }
 },
 "nbformat": 4,
 "nbformat_minor": 2
}
